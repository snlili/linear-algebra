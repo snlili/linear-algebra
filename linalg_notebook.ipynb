{
 "cells": [
  {
   "cell_type": "markdown",
   "metadata": {},
   "source": [
    "# Week 3\n",
    "## Vector operations"
   ]
  },
  {
   "cell_type": "markdown",
   "metadata": {},
   "source": [
    "### Inner product / scalar product / dot product\n",
    "denoted by\n",
    "$$\n",
    "<a,b>\n",
    "$$"
   ]
  },
  {
   "cell_type": "code",
   "execution_count": 1,
   "metadata": {},
   "outputs": [],
   "source": [
    "import numpy as np\n",
    "import matplotlib.pyplot as plt\n",
    "import math"
   ]
  },
  {
   "cell_type": "code",
   "execution_count": 13,
   "metadata": {},
   "outputs": [],
   "source": [
    "def inner_product(vec1: list, vec2: list): # where vectors are given as lists \n",
    "    temp=[]\n",
    "    for i in range(len(vec1)):\n",
    "        temp.append(vec1[i]*vec2[i])\n",
    "    return sum(temp)"
   ]
  },
  {
   "cell_type": "code",
   "execution_count": 14,
   "metadata": {},
   "outputs": [
    {
     "data": {
      "text/plain": [
       "28"
      ]
     },
     "execution_count": 14,
     "metadata": {},
     "output_type": "execute_result"
    }
   ],
   "source": [
    "inner_product([1,2,3], [3,5,5])"
   ]
  },
  {
   "cell_type": "code",
   "execution_count": 15,
   "metadata": {},
   "outputs": [
    {
     "data": {
      "text/plain": [
       "28"
      ]
     },
     "execution_count": 15,
     "metadata": {},
     "output_type": "execute_result"
    }
   ],
   "source": [
    "# Fortunately, there exists a numpy function for this\n",
    "np.dot([1,2,3], [3,5,5])"
   ]
  },
  {
   "cell_type": "markdown",
   "metadata": {},
   "source": [
    "### Norm\n",
    "\n",
    "Generates the length of a vector in $\\mathbb{R}^n$\n",
    "Notation: \n",
    "$$\n",
    "\\mathbb{R}^n \\lVert x \\rVert := \\sqrt{< x, x >} = \\sqrt{\\Sigma^n_{i=1} x^2_i} \n",
    "$$"
   ]
  },
  {
   "cell_type": "code",
   "execution_count": 24,
   "metadata": {},
   "outputs": [
    {
     "data": {
      "text/plain": [
       "3.7416573867739413"
      ]
     },
     "execution_count": 24,
     "metadata": {},
     "output_type": "execute_result"
    }
   ],
   "source": [
    "# L2 norm by default (Eucledian distance)\n",
    "np.linalg.norm([1,2,3])"
   ]
  },
  {
   "cell_type": "code",
   "execution_count": 20,
   "metadata": {},
   "outputs": [],
   "source": [
    "# L1 norm is just the sum of the coordinates (Manhattan distance)\n",
    "def l1_norm(vec):\n",
    "    return sum(vec)"
   ]
  },
  {
   "cell_type": "code",
   "execution_count": 22,
   "metadata": {},
   "outputs": [
    {
     "data": {
      "text/plain": [
       "6"
      ]
     },
     "execution_count": 22,
     "metadata": {},
     "output_type": "execute_result"
    }
   ],
   "source": [
    "l1_norm([1,2,3])"
   ]
  },
  {
   "cell_type": "markdown",
   "metadata": {},
   "source": [
    "Ln norm calculation"
   ]
  },
  {
   "cell_type": "code",
   "execution_count": 27,
   "metadata": {},
   "outputs": [],
   "source": [
    "def norm(vec, n): # given the array and the n parameter\n",
    "    return (sum([i ** n for i in vec]))**(1/n)"
   ]
  },
  {
   "cell_type": "code",
   "execution_count": 35,
   "metadata": {},
   "outputs": [
    {
     "data": {
      "text/plain": [
       "6.0"
      ]
     },
     "execution_count": 35,
     "metadata": {},
     "output_type": "execute_result"
    }
   ],
   "source": [
    "norm([1,2,3], 3)"
   ]
  },
  {
   "cell_type": "markdown",
   "metadata": {},
   "source": [
    "### Angle between two vectors\n",
    "\n",
    "$$\n",
    "\\exists!\\phi : \\cos\\phi = \\frac{<x,y>}{\\lVert x \\rVert \\cdot \\lVert y \\rVert} \n",
    "$$"
   ]
  },
  {
   "cell_type": "code",
   "execution_count": 38,
   "metadata": {},
   "outputs": [],
   "source": [
    "# How to calculate it (L2 norm)\n",
    "def angle(vec1, vec2):\n",
    "    return math.acos(inner_product(vec1, vec2) / (np.linalg.norm(vec1) * np.linalg.norm(vec2)))"
   ]
  },
  {
   "cell_type": "code",
   "execution_count": 37,
   "metadata": {},
   "outputs": [
    {
     "data": {
      "text/plain": [
       "0.3141991541895987"
      ]
     },
     "execution_count": 37,
     "metadata": {},
     "output_type": "execute_result"
    }
   ],
   "source": [
    "angle([1,2,3], [5,5,6])"
   ]
  },
  {
   "cell_type": "markdown",
   "metadata": {},
   "source": [
    "- Perpendicular system: $< a,b > = 0$\n",
    "- Orthonormal: perpendicular and elements $=1$"
   ]
  },
  {
   "cell_type": "markdown",
   "metadata": {},
   "source": [
    "## Matrices\n",
    "table of numbers having n rows and m columns: \n",
    "$$\n",
    "\\mathbb{R}^{n \\times m}\n",
    "$$"
   ]
  },
  {
   "cell_type": "markdown",
   "metadata": {},
   "source": [
    "They can be represented by nested lists or numpy arrays."
   ]
  },
  {
   "cell_type": "code",
   "execution_count": 40,
   "metadata": {},
   "outputs": [],
   "source": [
    "X = np.array([[1,2],[2,1],[0,-1]])\n",
    "Y = np.array([[0,-1],[1,1],[2,3]])"
   ]
  },
  {
   "cell_type": "markdown",
   "metadata": {},
   "source": [
    "### Matrix operations\n",
    "1. Addition (the matrices must be of the same dimension!)"
   ]
  },
  {
   "cell_type": "code",
   "execution_count": 44,
   "metadata": {},
   "outputs": [
    {
     "name": "stdout",
     "output_type": "stream",
     "text": [
      "[[1 1]\n",
      " [3 2]\n",
      " [2 2]]\n"
     ]
    }
   ],
   "source": [
    "print(X+Y)"
   ]
  },
  {
   "cell_type": "markdown",
   "metadata": {},
   "source": [
    "2. Scalar multiplication"
   ]
  },
  {
   "cell_type": "code",
   "execution_count": 43,
   "metadata": {},
   "outputs": [
    {
     "name": "stdout",
     "output_type": "stream",
     "text": [
      "[[ 2  4]\n",
      " [ 4  2]\n",
      " [ 0 -2]]\n"
     ]
    }
   ],
   "source": [
    "print(X*2)"
   ]
  },
  {
   "cell_type": "markdown",
   "metadata": {},
   "source": [
    "3. Product\n",
    "$$\n",
    "A: \\mathbb{R}^{m\\times n}\n",
    "$$\n",
    "$$\n",
    "B: \\mathbb{R}^{n\\times p}\n",
    "$$\n",
    "$$\n",
    "A \\cdot B = C: \\mathbb{R}^{m\\times p} = [\\phi_{i,j}]\n",
    "$$"
   ]
  },
  {
   "cell_type": "code",
   "execution_count": 46,
   "metadata": {},
   "outputs": [],
   "source": [
    "A = [[1,2],[2,3],[-1,2]]\n",
    "B = [[2,3,1,0],[0,1,-1,2]]"
   ]
  },
  {
   "cell_type": "code",
   "execution_count": null,
   "metadata": {},
   "outputs": [],
   "source": [
    "# result will be a 3 x 4 matrix, with the dot product of the corresponding row and column\n"
   ]
  }
 ],
 "metadata": {
  "kernelspec": {
   "display_name": "Python 3",
   "language": "python",
   "name": "python3"
  },
  "language_info": {
   "codemirror_mode": {
    "name": "ipython",
    "version": 3
   },
   "file_extension": ".py",
   "mimetype": "text/x-python",
   "name": "python",
   "nbconvert_exporter": "python",
   "pygments_lexer": "ipython3",
   "version": "3.7.5"
  }
 },
 "nbformat": 4,
 "nbformat_minor": 4
}
